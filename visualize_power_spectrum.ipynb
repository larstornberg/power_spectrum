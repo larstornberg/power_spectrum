{
 "cells": [
  {
   "cell_type": "code",
   "execution_count": 1,
   "metadata": {},
   "outputs": [],
   "source": [
    "import numpy as np\n",
    "import matplotlib.pyplot as plt\n",
    "from ipywidgets import interact, interactive, fixed, interact_manual\n",
    "import ipywidgets as widgets"
   ]
  },
  {
   "cell_type": "code",
   "execution_count": 96,
   "metadata": {},
   "outputs": [
    {
     "data": {
      "application/vnd.jupyter.widget-view+json": {
       "model_id": "9c6852c93e5149708a0d0158fef04a92",
       "version_major": 2,
       "version_minor": 0
      },
      "text/plain": [
       "interactive(children=(FloatSlider(value=2.0, description='f0', max=5.0, min=1.0, step=0.5), FloatSlider(value=…"
      ]
     },
     "metadata": {},
     "output_type": "display_data"
    },
    {
     "data": {
      "text/plain": [
       "<function __main__.plot_func(f0, f1, a0, a1, anoise)>"
      ]
     },
     "execution_count": 96,
     "metadata": {},
     "output_type": "execute_result"
    }
   ],
   "source": [
    "def plot_func(f0,f1,a0,a1,anoise):\n",
    "    fs = 20.0\n",
    "    T = 10\n",
    "    t = np.arange(0,T,1/fs)\n",
    "    x = a0*np.sin(2*np.pi*f0*t) + a1*np.sin(2*np.pi*f1*t) + anoise*np.random.randn(len(t))\n",
    "    xF = np.fft.fft(x)\n",
    "    N = len(xF)\n",
    "    xF = xF[0:int(N/2)]\n",
    "    fr = np.linspace(0,fs/2,int(N/2))\n",
    "    fig, ax = plt.subplots(2,1, figsize = (10,5))\n",
    "    fig.suptitle('Signal in time and frequency space')\n",
    "    #plt.ion()\n",
    "    ax[0].plot(t,x)\n",
    "    ax[1].plot(fr,abs(2*xF/(len(t))))\n",
    "    ax[1].grid()\n",
    "    ax[0].grid()\n",
    "    plt.show()\n",
    "\n",
    "interact(plot_func, f0 = widgets.FloatSlider(value=2,\n",
    "                                               min=1,\n",
    "                                               max=5.0,\n",
    "                                               step=0.5),\n",
    "                    f1 = widgets.FloatSlider(value=3,\n",
    "                                               min=1,\n",
    "                                               max=5.0,\n",
    "                                               step=0.5),\n",
    "                    a0 = widgets.FloatSlider(value=1,\n",
    "                                               min=1,\n",
    "                                               max=5.0,\n",
    "                                               step=0.5),\n",
    "                    a1 = widgets.FloatSlider(value=1,\n",
    "                                               min=1,\n",
    "                                               max=5.0,\n",
    "                                               step=0.5),\n",
    "                    anoise = widgets.FloatSlider(value=0.1,\n",
    "                                               min=0,\n",
    "                                               max=5.0,\n",
    "                                               step=0.1))\n",
    "    "
   ]
  },
  {
   "cell_type": "code",
   "execution_count": null,
   "metadata": {},
   "outputs": [],
   "source": []
  }
 ],
 "metadata": {
  "kernelspec": {
   "display_name": "Python 3",
   "language": "python",
   "name": "python3"
  },
  "language_info": {
   "codemirror_mode": {
    "name": "ipython",
    "version": 3
   },
   "file_extension": ".py",
   "mimetype": "text/x-python",
   "name": "python",
   "nbconvert_exporter": "python",
   "pygments_lexer": "ipython3",
   "version": "3.7.3"
  }
 },
 "nbformat": 4,
 "nbformat_minor": 2
}
