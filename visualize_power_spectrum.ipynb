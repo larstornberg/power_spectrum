{
 "cells": [
  {
   "cell_type": "markdown",
   "metadata": {},
   "source": [
    "# Power Spectrum with Deterministic and Stochastic Signals "
   ]
  },
  {
   "cell_type": "code",
   "execution_count": 143,
   "metadata": {},
   "outputs": [],
   "source": [
    "import numpy as np\n",
    "import matplotlib.pyplot as plt\n",
    "from scipy import signal\n",
    "from ipywidgets import interact, interactive, fixed, interact_manual, HBox, Layout\n",
    "import ipywidgets as widgets\n",
    "#from IPython.core.display import display, HTML\n",
    "#display(HTML(\"<style>.container { width:50% !important; }</style>\"))"
   ]
  },
  {
   "cell_type": "markdown",
   "metadata": {},
   "source": [
    "In the following we consider a signal consisting of a deterministic and random part \n",
    "$$\n",
    "x(t)= d(t) + s(t), \n",
    "$$\n",
    "and consider how to derive the power spectrum of $x(t)$. In this particluar example, we consider as the deterministic part a sum of two harmonic signals\n",
    "$$\n",
    "d(t) = A_0\\sin(\\omega_0 t) + A_1\\sin(\\omega_1 t), \n",
    "$$\n",
    "with known frequencies and zero relative phase. The stochastic signal is white noise with mean zero and unit variance. This is not crucial for the result, but simplifies the calculations. In this case, the normal Fourier transform becomes ill-defined as $s(t)$ is non-integrable in the normal sense. However, we can still calculate the power spectrum by considering the auto-correlation function,$r_{xx}(\\tau)$ defined as \n",
    "$$\n",
    "r_{xx}(\\tau) = \\lim_{T\\to\\infty}\\frac{1}{T} \\int_{T/2}^{T/2} x(t)x(t+\\tau)dt,\n",
    "$$\n",
    "where we have assumed that $x(t)$ is ergodic, which holds for this particular example. This allows us to substitute the sample means with the time integral and thus define the auto correlation function in the same way for both $d(t)$ and $s(t)$. Substituting the expression for $x(t)$ in the integral above, we arrive at \n",
    "$$\n",
    "r_{xx}(\\tau) = \\lim_{T\\to\\infty} \\frac{1}{T} \\left(  \\int_{T/2}^{T/2} d(t)d(t+\\tau) dt +  \\int_{T/2}^{T/2} s(t)s(t+\\tau) dt\\right),\n",
    "$$\n",
    "where we have used that $s(t)$ has zero mean. The last term is the definition of $r_{ss}(\\tau)$. The deterministic integral is given by \n",
    "$$\n",
    "\\lim_{T\\to\\infty} \\frac{1}{T} \\left( \\int_{T/2}^{T/2} d(t)d(t+\\tau) dt \\right) = \\frac{A_0^2}{2}\\cos(\\omega_0\\tau) + \\frac{A_1^2}{2}\\cos(\\omega_1\\tau), \n",
    "$$\n",
    "where we have used the identity \n",
    "$$\n",
    "\\sin(v+w)=\\sin v\\cos w+\\cos v \\sin w,\n",
    "$$\n",
    "and the fact that \n",
    "$$\n",
    "\\lim_{T\\to\\infty} \\frac{1}{T} * \\text{oscillating terms} = 0. \n",
    "$$\n",
    "\n",
    "Combining the deterministic and stochastic part, the auto-correlation function is given by \n",
    "$$\n",
    "r_{xx}(\\tau) = \\frac{A_0^2}{2}\\cos(\\omega_0\\tau) + \\frac{A_1^2}{2}\\cos(\\omega_1\\tau) + r_{ss}(\\tau). \n",
    "$$\n",
    "We can now take the definition for the power spectrum as the Fourier transform of the auto-correlation function, which is a well defined quantity for a wide sense stationary (WSS) process (again holding true in this particlular example). We thus arrive at the rather intuitively clear result that the power spectrum of $x(t)$ is given by \n",
    "$$\n",
    "P_x(\\omega) = \\frac{A_0^2}{2}\\delta(\\omega - \\omega_0) + \\frac{A_1^2}{2}\\delta(\\omega - \\omega_1) + P_s(\\omega), \n",
    "$$\n",
    "which consists of a linear combination of delta peaks at the harmonic frequencies and the power spectrum of the stochastic signal. \n",
    "\n",
    "\n",
    "We can verify and experiment with this result by calculating the FFT spectrum of $d(t)$, $x(t)$, and $r_{xx}(\\tau)$. Below we plot these signals in the left column. In the right column we plot the corresponding Fourier transforms of the individual signals. "
   ]
  },
  {
   "cell_type": "code",
   "execution_count": 41,
   "metadata": {},
   "outputs": [],
   "source": [
    "def plot_func(f0,f1,a0,a1,anoise):\n",
    "    fs = 20.0\n",
    "    T = 10\n",
    "    t = np.arange(0,T,1/fs)\n",
    "    x = a0*np.sin(2*np.pi*f0*t) + a1*np.sin(2*np.pi*f1*t) + anoise*np.random.randn(len(t))\n",
    "    xF = np.fft.fft(x)\n",
    "    N = len(xF)\n",
    "    xF = xF[0:int(N/2)]\n",
    "    fr = np.linspace(0,fs/2,int(N/2))\n",
    "    fig, ax = plt.subplots(2,1, figsize = (10,5))\n",
    "    fig.suptitle('Signal in time and frequency space')\n",
    "    ax[0].plot(t,x)\n",
    "    ax[1].plot(fr,abs(2*xF/(len(t))))\n",
    "    ax[1].grid()\n",
    "    ax[0].grid()\n",
    "    plt.show()\n",
    "\n",
    "def get_spectrum(sig,fs):\n",
    "    xF = np.fft.fft(sig)\n",
    "    N = len(xF)\n",
    "    xF = xF[0:int(N/2)]\n",
    "    fr = np.linspace(0,fs/2,int(N/2))\n",
    "    return 2*xF/len(sig),fr"
   ]
  },
  {
   "cell_type": "code",
   "execution_count": 140,
   "metadata": {},
   "outputs": [
    {
     "data": {
      "application/vnd.jupyter.widget-view+json": {
       "model_id": "609d6d1168e942068e71f3b6f55ac745",
       "version_major": 2,
       "version_minor": 0
      },
      "text/plain": [
       "interactive(children=(FloatSlider(value=2.0, description='f0', max=5.0, min=1.0, step=0.5), FloatSlider(value=…"
      ]
     },
     "metadata": {},
     "output_type": "display_data"
    }
   ],
   "source": [
    "def plot_func(f0,f1,a0,a1,anoise):\n",
    "\n",
    "    fs = 20\n",
    "    T = 10\n",
    "    t = np.arange(0,T,1/fs)\n",
    "    #a0 = 1\n",
    "    #a1 = 1\n",
    "    #f0 = 1\n",
    "    #f1 = 2\n",
    "    #anoise = 3\n",
    "    sig = a0*np.cos(2*np.pi*f0*t) + a1*np.cos(2*np.pi*f1*t) \n",
    "    #sig = a0*np.ones_like(t)\n",
    "\n",
    "    sig_noise = sig + anoise*np.random.randn(len(t))\n",
    "    corr = signal.correlate(sig_noise, sig_noise, mode='same', method='direct')\n",
    "    corr /= np.max(corr)\n",
    "    sig_freq, fr_sig = get_spectrum(sig,fs)\n",
    "    sig_noise_freq, fr_sig = get_spectrum(sig_noise,fs)\n",
    "    power_spec, fr_corr = get_spectrum(corr,fs)\n",
    "    \n",
    "    fig, ax = plt.subplots(3, 2, figsize=(10, 10/3*2))\n",
    "    ax[0,0].plot(t,sig)\n",
    "    ax[0,0].set_title('Original signal')\n",
    "    ax[0,0].set_xlabel('Time')\n",
    "    ax[1,0].plot(t,sig_noise)\n",
    "    ax[1,0].set_title('Signal with noise')\n",
    "    ax[1,0].set_xlabel('Time')\n",
    "    ax[2,0].plot(corr)\n",
    "    ax[2,0].set_title('Auto-Correlation')\n",
    "    ax[2,0].set_xlabel('Lag')\n",
    "    ax[0,0].margins(0, 0.1)\n",
    "    ax[1,0].margins(0, 0.1)\n",
    "    ax[2,0].margins(0, 0.1)\n",
    "\n",
    "    ax[0,1].plot(fr_sig,np.abs(sig_freq))\n",
    "    ax[0,1].set_title('FFT(Original signal)')\n",
    "    ax[0,1].set_xlabel('Freq')\n",
    "    ax[1,1].plot(fr_sig,np.abs(sig_noise_freq))\n",
    "    ax[1,1].set_title('FFT(Signal with noise)')\n",
    "    ax[1,1].set_xlabel('Freq')\n",
    "    ax[2,1].plot(fr_corr,np.abs(power_spec))\n",
    "    ax[2,1].set_title('FFT(Auto-Correlation)')\n",
    "    ax[2,1].set_xlabel('Freq')\n",
    "    ax[0,1].margins(0, 0.1)\n",
    "    ax[1,1].margins(0, 0.1)\n",
    "    ax[2,1].margins(0, 0.1)\n",
    "\n",
    "\n",
    "    fig.tight_layout()\n",
    "    plt.show()\n",
    "\n",
    "\n",
    "w = interact(plot_func, f0 = widgets.FloatSlider(value=2,\n",
    "                                               min=1,\n",
    "                                               max=5.0,\n",
    "                                               step=0.5),\n",
    "                    f1 = widgets.FloatSlider(value=3,\n",
    "                                               min=1,\n",
    "                                               max=5.0,\n",
    "                                               step=0.5),\n",
    "                    a0 = widgets.FloatSlider(value=1,\n",
    "                                               min=0,\n",
    "                                               max=5.0,\n",
    "                                               step=0.5),\n",
    "                    a1 = widgets.FloatSlider(value=1,\n",
    "                                               min=0,\n",
    "                                               max=5.0,\n",
    "                                               step=0.5),\n",
    "                    anoise = widgets.FloatSlider(value=0.1,\n",
    "                                               min=0,\n",
    "                                               max=5.0,\n",
    "                                               step=0.1))\n",
    "\n",
    "\n",
    "plt.show()"
   ]
  },
  {
   "cell_type": "markdown",
   "metadata": {},
   "source": [
    "As expected, $r_{xx}(\\tau)$ contain the same frequencies as $x(t)$ which can be seen in both the time and frequency domain. The autocorrelation $r_{xx}(\\tau)$ is not however a pure sum of two harmonic signals and I am not sure why. Been playing with both integration time and sampling frequency without any change. Food for thought. "
   ]
  },
  {
   "cell_type": "code",
   "execution_count": null,
   "metadata": {},
   "outputs": [],
   "source": []
  }
 ],
 "metadata": {
  "kernelspec": {
   "display_name": "Python 3",
   "language": "python",
   "name": "python3"
  },
  "language_info": {
   "codemirror_mode": {
    "name": "ipython",
    "version": 3
   },
   "file_extension": ".py",
   "mimetype": "text/x-python",
   "name": "python",
   "nbconvert_exporter": "python",
   "pygments_lexer": "ipython3",
   "version": "3.7.3"
  }
 },
 "nbformat": 4,
 "nbformat_minor": 2
}
